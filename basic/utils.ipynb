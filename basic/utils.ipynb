{
 "cells": [
  {
   "cell_type": "code",
   "execution_count": null,
   "id": "4e16c352-7129-475c-8512-f51a4fa48eea",
   "metadata": {},
   "outputs": [],
   "source": [
    "# pip install yagmail\n",
    "# pip install imap_tools"
   ]
  },
  {
   "cell_type": "code",
   "execution_count": null,
   "id": "c25490cf-ae13-4d3d-abfb-7d0e96dc7753",
   "metadata": {},
   "outputs": [],
   "source": [
    "import yagmail\n",
    "from imap_tools import MailBox, AND"
   ]
  },
  {
   "cell_type": "code",
   "execution_count": null,
   "id": "e14a7738-3715-47f4-bf53-cbe95b7e1e84",
   "metadata": {},
   "outputs": [],
   "source": [
    "# Отправка сообщения\n",
    "def send_email(to, subject, body):\n",
    "  yag = yagmail.SMTP(\"antonio.litvinov@gmail.com\", \"nyvqiupizuxezlrk\")\n",
    "  yag.send(to, subject, body)"
   ]
  },
  {
   "cell_type": "code",
   "execution_count": null,
   "id": "67e40e83-b615-49cc-a5d5-fe82b593abb8",
   "metadata": {},
   "outputs": [],
   "source": [
    "send_email('antonio.litvinov@gmail.com', 'Тестовое письмо', 'Тело письма')"
   ]
  },
  {
   "cell_type": "code",
   "execution_count": null,
   "id": "0f71be6e-f7e0-48ff-9da2-71a8ced4d2fe",
   "metadata": {},
   "outputs": [],
   "source": [
    "# Получение сообщений\n",
    "def fetch_emails(email: str, password: str, limit: int = 10, unread_only: bool = False):\n",
    "    result = []\n",
    "    search_criteria = AND(seen=False) if unread_only else AND(all=True)\n",
    "\n",
    "    with MailBox('imap.gmail.com').login(email, password) as mailbox:\n",
    "        for msg in mailbox.fetch(search_criteria, limit=limit):\n",
    "            result.append({\n",
    "                \"from\": msg.from_,\n",
    "                \"subject\": msg.subject,\n",
    "                \"text\": msg.text\n",
    "            })\n",
    "\n",
    "    return result"
   ]
  },
  {
   "cell_type": "code",
   "execution_count": null,
   "id": "c2c90d3f-e2ba-4357-814f-388ad188dca5",
   "metadata": {},
   "outputs": [],
   "source": [
    "def print_emails(email_list):\n",
    "    for msg in email_list:\n",
    "        print(f\"From: {msg['from']}\")\n",
    "        print(f\"Subject: {msg['subject']}\")\n",
    "        print(\"=\" * 50)"
   ]
  },
  {
   "cell_type": "code",
   "execution_count": null,
   "id": "d3834d59-64bc-4abc-bce2-79f8fb46b8ad",
   "metadata": {},
   "outputs": [],
   "source": [
    "emails = fetch_emails(\"antonio.litvinov@gmail.com\", \"nyvqiupizuxezlrk\")"
   ]
  },
  {
   "cell_type": "code",
   "execution_count": null,
   "id": "2cfdce08-6e5e-4ed9-a175-18b6bb7188b8",
   "metadata": {},
   "outputs": [],
   "source": [
    "print_emails(emails)"
   ]
  }
 ],
 "metadata": {
  "kernelspec": {
   "display_name": "Python 3 (ipykernel)",
   "language": "python",
   "name": "python3"
  },
  "language_info": {
   "codemirror_mode": {
    "name": "ipython",
    "version": 3
   },
   "file_extension": ".py",
   "mimetype": "text/x-python",
   "name": "python",
   "nbconvert_exporter": "python",
   "pygments_lexer": "ipython3",
   "version": "3.13.3"
  }
 },
 "nbformat": 4,
 "nbformat_minor": 5
}
