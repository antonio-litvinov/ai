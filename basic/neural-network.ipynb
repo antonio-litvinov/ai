{
 "cells": [
  {
   "cell_type": "markdown",
   "id": "b7fbca60-8a69-4dc2-9a08-4833e47fa22c",
   "metadata": {},
   "source": [
    "# Нейронные сети"
   ]
  },
  {
   "attachments": {
    "a30ead1b-d3d8-4482-b58c-df5df9fc3823.jpg": {
     "image/jpeg": "[encoded data removed]"
    }
   },
   "cell_type": "markdown",
   "id": "6da523d2-de40-460a-9db7-57d0fdae06aa",
   "metadata": {},
   "source": [
    "![Scheme.jpg](attachment:a30ead1b-d3d8-4482-b58c-df5df9fc3823.jpg)"
   ]
  },
  {
   "cell_type": "markdown",
   "id": "f5a843c6-8c36-490c-8e4b-84ece893be1c",
   "metadata": {},
   "source": [
    "### Веса выходного слоя"
   ]
  },
  {
   "cell_type": "markdown",
   "id": "9b01c467-caec-42e7-a259-115a3fc88746",
   "metadata": {},
   "source": [
    "Влияние веса w на общую ошибку:\n",
    "\n",
    "$\n",
    "\\frac{\\partial E}{\\partial w_{ji}} = \\frac{\\partial E}{\\partial Y_{i}} \\cdot \\frac{\\partial Y_{i}}{\\partial SY_{i}} \\cdot \\frac{\\partial SY_{i}}{\\partial w_{ji}}\n",
    "$"
   ]
  },
  {
   "cell_type": "markdown",
   "id": "1966bb64-2e29-4156-bf6c-40a358e6dcd6",
   "metadata": {},
   "source": [
    "Компоненты уравнения (для сигмоиды):\n",
    "\n",
    "$\n",
    "\\frac{\\partial E}{\\partial Y_{i}} = Y_{i} - a_{i} \\\\ \\frac{\\partial Y_{i}}{\\partial SY_{i}} = Y_{i} \\cdot (1 - Y_{i}) \\\\ \\frac{\\partial SY_{i}}{\\partial w_{ji}} = X_{j}\n",
    "$"
   ]
  },
  {
   "cell_type": "markdown",
   "id": "27cef2f4-3299-434a-87b2-4fdade29907d",
   "metadata": {},
   "source": [
    "Следовательно:\n",
    "\n",
    "$\n",
    "\\frac{\\partial E}{\\partial w_{ji}} = (Y_{i} - a_{i}) \\cdot Y_{i} \\cdot (1 - Y_{i}) \\cdot X_{j}\n",
    "$"
   ]
  },
  {
   "cell_type": "markdown",
   "id": "5675902b-eced-469a-8ea7-4add0f556755",
   "metadata": {},
   "source": [
    "Определим ошибку выходного нейрона:\n",
    "\n",
    "$\n",
    "\\tau_{out_i} = \\frac{\\partial E}{\\partial Y_{i}} \\cdot \\frac{\\partial Y_{i}}{\\partial SY_{i}} \\\\\n",
    "\\tau_{out_i} = (Y_{i} - a_{i}) \\cdot Y_{i} \\cdot (1 - Y_{i})\n",
    "$"
   ]
  },
  {
   "cell_type": "markdown",
   "id": "67159e6d-1286-4585-9700-c7a56bd57a48",
   "metadata": {},
   "source": [
    "Следовательно:\n",
    "\n",
    "$\n",
    "\\frac{\\partial E}{\\partial w_{ji}} = \\tau_{out_i} \\cdot X_{j}\n",
    "$"
   ]
  },
  {
   "cell_type": "markdown",
   "id": "d4f619c2-cafd-4eeb-a5e2-a1e35b9eebb3",
   "metadata": {},
   "source": [
    "### Веса внутреннего слоя"
   ]
  },
  {
   "cell_type": "markdown",
   "id": "fa6fbb5d-7832-4186-a5ff-21bbd6518843",
   "metadata": {},
   "source": [
    "Влияние веса v на ошибку нейрона X:\n",
    "\n",
    "$\n",
    "\\frac{\\partial E}{\\partial v_{rs}} = \\frac{\\partial E}{\\partial X_{j}} \\cdot \\frac{\\partial X_{j}}{\\partial SX_{j}} \\cdot \\frac{\\partial SX_{j}}{\\partial v_{rs}}\n",
    "$"
   ]
  },
  {
   "cell_type": "markdown",
   "id": "fc8e8318-2f09-49fe-b58c-81e7468baab0",
   "metadata": {},
   "source": [
    "Компоненты уравнения:\n",
    "\n",
    "$\n",
    "\\frac{\\partial E}{\\partial X_{j}} = \\sum_{i=1}^{n} \\frac{\\partial E}{\\partial Y_{i}} \\cdot \\frac{\\partial Y_{i}}{\\partial SY_{i}} \\cdot \\frac{\\partial SY_{i}}{\\partial X_{j}}\n",
    "$"
   ]
  },
  {
   "cell_type": "markdown",
   "id": "d413fd25-3600-437d-9fe5-1e9547ddbdc1",
   "metadata": {},
   "source": [
    "$\n",
    "\\frac{\\partial E}{\\partial X_{j}} = \\sum_{i=1}^{n} (Y_{i} - a_{i}) \\cdot Y_{i} \\cdot (1 - Y_{i}) \\cdot w_{ji} \n",
    "$"
   ]
  },
  {
   "cell_type": "markdown",
   "id": "b2cc6cbd-0d83-4a26-9949-df31a6ebb63b",
   "metadata": {},
   "source": [
    "Подставив определение ошибки, получим:"
   ]
  },
  {
   "cell_type": "markdown",
   "id": "e930d3a8-8147-411b-be41-4a1d18c887bf",
   "metadata": {},
   "source": [
    "$\n",
    "\\frac{\\partial E}{\\partial X_{j}} = \\sum_{i=1}^{n} \\tau_{out_i} \\cdot w_{ji}\n",
    "$"
   ]
  },
  {
   "cell_type": "markdown",
   "id": "2ce9a6f3-6b7c-4bd1-b30a-692c6171d17b",
   "metadata": {},
   "source": [
    "Остальные компоненты высчитываются аналогично:"
   ]
  },
  {
   "cell_type": "markdown",
   "id": "117a08b1-895e-469e-a8ae-451592a4ea31",
   "metadata": {},
   "source": [
    "$\n",
    "\\frac{\\partial E}{\\partial v_{rs}} = (\\sum_{i=1}^{n} \\tau_{out_i} \\cdot w_{ji}) \\cdot \\frac{\\partial X_{j}}{\\partial SX_{j}} \\cdot \\frac{\\partial SX_{j}}{\\partial v_{rs}}\n",
    "$"
   ]
  },
  {
   "cell_type": "markdown",
   "id": "ba207211-6769-48a0-a5d8-431d82e11525",
   "metadata": {},
   "source": [
    "$\n",
    "\\frac{\\partial E}{\\partial v_{rs}} = (\\sum_{i=1}^{n} \\tau_{out_i} \\cdot w_{ji}) \\cdot X_{j} \\cdot (1 - X_{j}) \\cdot I_{s}\n",
    "$"
   ]
  },
  {
   "cell_type": "markdown",
   "id": "88743436-cf64-459e-8e1a-99d358c3d9e8",
   "metadata": {},
   "source": [
    "Определим ошибку внутреннего нейрона:"
   ]
  },
  {
   "cell_type": "markdown",
   "id": "92fc4835-d7e4-44bb-8e1f-248f0fe5d5c4",
   "metadata": {},
   "source": [
    "$\n",
    "\\tau_{in_i} = (\\sum_{i=1}^{n} \\tau_{out_i} \\cdot w_{ji}) \\cdot X_{j} \\cdot (1 - X_{j})\n",
    "$"
   ]
  },
  {
   "cell_type": "markdown",
   "id": "07133f45-a282-4791-8ffc-31d6ca774b24",
   "metadata": {},
   "source": [
    "Следовательно:\n",
    "\n",
    "$\n",
    "\\frac{\\partial E}{\\partial v_{rs}} = \\tau_{in_i} \\cdot I_{s}\n",
    "$"
   ]
  },
  {
   "cell_type": "code",
   "execution_count": null,
   "id": "5e3f5abb-c9b9-40bb-87d7-028c7e31b4df",
   "metadata": {},
   "outputs": [],
   "source": [
    "import numpy as np\n",
    "import sys"
   ]
  },
  {
   "cell_type": "code",
   "execution_count": null,
   "id": "69ee6ecf-0775-4459-87c1-5b63dd45f92f",
   "metadata": {},
   "outputs": [],
   "source": [
    "np.random.seed(1)"
   ]
  },
  {
   "cell_type": "code",
   "execution_count": null,
   "id": "934a7a8e-4a68-4c01-8c61-f4c4d1d2baef",
   "metadata": {},
   "outputs": [],
   "source": [
    "def sigmoid(x):\n",
    "    return 1 / (1 + np.exp(-x))"
   ]
  },
  {
   "cell_type": "code",
   "execution_count": null,
   "id": "00fbfb47-1b0f-4b37-b0e8-9c896756998f",
   "metadata": {},
   "outputs": [],
   "source": [
    "X = np.array([[0, 0, 1, 1],\n",
    "              [0, 1, 0, 1]])\n",
    "\n",
    "y = np.array([[0, 1, 1, 0]])"
   ]
  },
  {
   "cell_type": "code",
   "execution_count": null,
   "id": "e6f2960e-56cb-4b48-9b9f-29739f03a205",
   "metadata": {},
   "outputs": [],
   "source": [
    "epochs = 80_000"
   ]
  },
  {
   "cell_type": "code",
   "execution_count": null,
   "id": "b1d14960-ea08-4cb9-b0ac-634b70573f6a",
   "metadata": {},
   "outputs": [],
   "source": [
    "w1 = 2 * np.random.random((3,2)) - 1\n",
    "w2 = 2 * np.random.random((1,3)) - 1\n",
    "learning_rate = 1"
   ]
  },
  {
   "cell_type": "code",
   "execution_count": null,
   "id": "bb6db601-31ae-4443-839e-6421bf551b6f",
   "metadata": {},
   "outputs": [],
   "source": [
    "for epoch in range(epochs):\n",
    "    hide = sigmoid(w1 @ X)\n",
    "    out = sigmoid(w2 @ hide)\n",
    "    \n",
    "    err = (y - out)\n",
    "    \n",
    "    e_out = err*out*(1-out)\n",
    "    e_hide = (w2.T @ e_out)*hide*(1-hide)\n",
    "    \n",
    "    w2 += learning_rate * (e_out @ hide.T)\n",
    "    w1 += learning_rate * (e_hide @ X.T)\n",
    "    \n",
    "    sys.stdout.write(\"\\rProgress: {}%, Training loss: {}\".format(str(epoch / epochs * 100)[:2], str(np.mean(np.abs(err)))[:5]))"
   ]
  },
  {
   "cell_type": "code",
   "execution_count": null,
   "id": "5605de7d-1c90-4c0e-886c-7957a02c1566",
   "metadata": {},
   "outputs": [],
   "source": [
    "def predict(arg):\n",
    "    hide = sigmoid(w1 @ arg)\n",
    "    out = sigmoid(w2 @ hide)\n",
    "    \n",
    "    return out > 0.5"
   ]
  },
  {
   "cell_type": "code",
   "execution_count": null,
   "id": "2c639252-f912-462c-8bb2-9a6fe4858e9b",
   "metadata": {},
   "outputs": [],
   "source": [
    "def predict_proba(arg):\n",
    "    hide = sigmoid(w1 @ arg)\n",
    "    out = sigmoid(w2 @ hide)\n",
    "    \n",
    "    return out"
   ]
  },
  {
   "cell_type": "code",
   "execution_count": null,
   "id": "0ae751bd-fb73-4c9e-bc88-cc1f4dc6541e",
   "metadata": {},
   "outputs": [],
   "source": [
    "predict(X)"
   ]
  },
  {
   "cell_type": "code",
   "execution_count": null,
   "id": "2e4d43f0-eba7-4f27-b284-67b47c36c0c0",
   "metadata": {},
   "outputs": [],
   "source": [
    "predict_proba(X)"
   ]
  },
  {
   "cell_type": "code",
   "execution_count": null,
   "id": "c1e8e7ca-92bc-4d93-a7d2-e5fbfe7d60b0",
   "metadata": {},
   "outputs": [],
   "source": [
    "for x,y in zip(X.T,y.T):\n",
    "    print(\"For input: {} expected {}, the prediction is: {} with probability {}\".format(\n",
    "        str(x),\n",
    "        str(y == 1),\n",
    "        str(predict(x)),\n",
    "        str((np.around(predict_proba(x),4)))))"
   ]
  }
 ],
 "metadata": {
  "kernelspec": {
   "display_name": "Python 3 (ipykernel)",
   "language": "python",
   "name": "python3"
  },
  "language_info": {
   "codemirror_mode": {
    "name": "ipython",
    "version": 3
   },
   "file_extension": ".py",
   "mimetype": "text/x-python",
   "name": "python",
   "nbconvert_exporter": "python",
   "pygments_lexer": "ipython3",
   "version": "3.13.0"
  }
 },
 "nbformat": 4,
 "nbformat_minor": 5
}
